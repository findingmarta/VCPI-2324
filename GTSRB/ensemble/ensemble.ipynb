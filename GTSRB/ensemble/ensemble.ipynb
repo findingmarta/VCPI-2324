{
 "cells": [
  {
   "cell_type": "code",
   "execution_count": 1,
   "metadata": {},
   "outputs": [],
   "source": [
    "import torch\n",
    "import torchvision\n",
    "from torchvision.transforms import v2\n",
    "\n",
    "import torchinfo\n",
    "\n",
    "import matplotlib.pyplot as plt\n",
    "import numpy as np\n",
    "import time\n",
    "\n",
    "import collections \n",
    "\n",
    "# importing a module with utilities for displaying stats and data\n",
    "import sys\n",
    "sys.path.insert(1, '../util')\n",
    "import vcpi_util"
   ]
  },
  {
   "cell_type": "code",
   "execution_count": 2,
   "metadata": {},
   "outputs": [
    {
     "name": "stdout",
     "output_type": "stream",
     "text": [
      "cuda:0\n"
     ]
    }
   ],
   "source": [
    "device = torch.device('cuda:0' if torch.cuda.is_available() else 'cpu')\n",
    "print(device)"
   ]
  },
  {
   "cell_type": "code",
   "execution_count": 3,
   "metadata": {},
   "outputs": [],
   "source": [
    "def evaluate(model, data_loader):\n",
    "\n",
    "    # sets the model in evaluation mode.\n",
    "    # although our model does not have layers which behave differently during training and evaluation\n",
    "    # this is a good practice as the models architecture may change in the future\n",
    "    model.eval()\n",
    "\n",
    "    correct = 0\n",
    "    \n",
    "    for i, (images, targets) in enumerate(data_loader):\n",
    "         \n",
    "        # forward pass, compute the output of the model for the current batch\n",
    "        outputs = model(images.to(device))\n",
    "\n",
    "        # \"max\" returns a namedtuple (values, indices) where values is the maximum \n",
    "        # value of each row of the input tensor in the given dimension dim; \n",
    "        # indices is the index location of each maximum value found (argmax).\n",
    "        # the argmax effectively provides the predicted class number        \n",
    "        _, preds = torch.max(outputs, dim=1)\n",
    "\n",
    "        correct += (preds.cpu() == targets).sum()\n",
    "\n",
    "    return (correct / len(data_loader.dataset)).item()\n",
    "\n",
    "\n",
    "class Conv(torch.nn.Module):\n",
    "    def __init__(self, num_classes):\n",
    "        super().__init__()\n",
    "\n",
    "        self.conv1 = torch.nn.Conv2d(3, 128, 3) \n",
    "        self.bn1 = torch.nn.BatchNorm2d(128)    \n",
    "        self.relu1 = torch.nn.ReLU()\n",
    "        self.drop1 = torch.nn.Dropout2d(0.3)\n",
    "\n",
    "        self.conv2 = torch.nn.Conv2d(128, 256, 3)\n",
    "        self.bn2 = torch.nn.BatchNorm2d(256)\n",
    "        self.relu2 = torch.nn.ReLU()\n",
    "        self.drop2 = torch.nn.Dropout2d(0.3)\n",
    "\n",
    "        self.maxpool1 = torch.nn.MaxPool2d(2)\n",
    "\n",
    "        self.conv3 = torch.nn.Conv2d(256, 512, 3)\n",
    "        self.bn3 = torch.nn.BatchNorm2d(512)        \n",
    "        self.relu3 = torch.nn.ReLU()\n",
    "        self.drop3 = torch.nn.Dropout2d(0.3)\n",
    "\n",
    "        self.conv4 = torch.nn.Conv2d(512, 512, 3)\n",
    "        self.bn4 = torch.nn.BatchNorm2d(512)\n",
    "        self.relu4 = torch.nn.ReLU()\n",
    "        self.drop4 = torch.nn.Dropout2d(0.3)\n",
    "\n",
    "        self.maxpool2 = torch.nn.MaxPool2d(2)\n",
    "\n",
    "        self.fc1 = torch.nn.Linear(12800, num_classes) \n",
    "\n",
    "    def forward(self, x):\n",
    "        # input = (batch_size, 3, 32, 32)\n",
    "        x = self.conv1(x)                  # output = (batch_size, 128, 30, 30) \n",
    "        x = self.bn1(x)\n",
    "        x = self.relu1(x)\n",
    "        x = self.drop1(x)\n",
    "\n",
    "        x = self.conv2(x)                  # output = (batch_size, 256, 28, 28)\n",
    "        x = self.bn2(x)\n",
    "        x = self.relu2(x)\n",
    "        x = self.drop2(x)\n",
    "\n",
    "        x = self.maxpool1(x)               # output = (batch_size, 256, 14, 14)\n",
    "\n",
    "        x = self.conv3(x)                  # output = (batch_size, 512, 12, 12)                     \n",
    "        x = self.bn3(x)\n",
    "        x = self.relu3(x)\n",
    "        x = self.drop3(x)\n",
    "\n",
    "        x = self.conv4(x)                  # output = (batch_size, 512, 10, 10)\n",
    "        x = self.bn4(x)\n",
    "        x = self.relu4(x)\n",
    "        x = self.drop4(x)\n",
    "\n",
    "        x = self.maxpool2(x)               # output = (batch_size, 512, 5, 5)     512 x 5 x 5 = 12800\n",
    "\n",
    "        x = torch.flatten(x, 1)             \n",
    "        x = self.fc1(x)                                                                                     \n",
    "\n",
    "        return x "
   ]
  },
  {
   "cell_type": "code",
   "execution_count": 4,
   "metadata": {},
   "outputs": [],
   "source": [
    "pathTest = '../test_images'\n",
    "\n",
    "# Batch size - It can influence speed and generalization, not necessarily in the same direction. \n",
    "# There is no golden rule for the batch size but 32 is a commom number to start with.\n",
    "BATCH_SIZE = 32\n",
    "\n",
    "IMAGE_SIZE = 32\n",
    "EPOCHS = 40\n",
    "\n",
    "NUM_MODELS = 5"
   ]
  },
  {
   "cell_type": "code",
   "execution_count": 5,
   "metadata": {},
   "outputs": [],
   "source": [
    "transform_test = v2.Compose([\n",
    "    v2.Resize((IMAGE_SIZE, IMAGE_SIZE)),\n",
    "    v2.RandomAutocontrast(p=1.0),          # Apply autocontrast to the image\n",
    "    v2.ToImage(),                          # Convert to tensor\n",
    "    v2.ToDtype(torch.float32, scale=True)  # Normalize to [0,1]\n",
    "])\n",
    "\n",
    "# No shuffle is required for the test set, also the batch size can be completely different\n",
    "test_set = torchvision.datasets.ImageFolder(root=pathTest, transform=transform_test)\n",
    "test_loader = torch.utils.data.DataLoader(test_set, batch_size=BATCH_SIZE)"
   ]
  },
  {
   "cell_type": "code",
   "execution_count": 6,
   "metadata": {},
   "outputs": [
    {
     "data": {
      "text/plain": [
       "Conv(\n",
       "  (conv1): Conv2d(3, 128, kernel_size=(3, 3), stride=(1, 1))\n",
       "  (bn1): BatchNorm2d(128, eps=1e-05, momentum=0.1, affine=True, track_running_stats=True)\n",
       "  (relu1): ReLU()\n",
       "  (drop1): Dropout2d(p=0.3, inplace=False)\n",
       "  (conv2): Conv2d(128, 256, kernel_size=(3, 3), stride=(1, 1))\n",
       "  (bn2): BatchNorm2d(256, eps=1e-05, momentum=0.1, affine=True, track_running_stats=True)\n",
       "  (relu2): ReLU()\n",
       "  (drop2): Dropout2d(p=0.3, inplace=False)\n",
       "  (maxpool1): MaxPool2d(kernel_size=2, stride=2, padding=0, dilation=1, ceil_mode=False)\n",
       "  (conv3): Conv2d(256, 512, kernel_size=(3, 3), stride=(1, 1))\n",
       "  (bn3): BatchNorm2d(512, eps=1e-05, momentum=0.1, affine=True, track_running_stats=True)\n",
       "  (relu3): ReLU()\n",
       "  (drop3): Dropout2d(p=0.3, inplace=False)\n",
       "  (conv4): Conv2d(512, 512, kernel_size=(3, 3), stride=(1, 1))\n",
       "  (bn4): BatchNorm2d(512, eps=1e-05, momentum=0.1, affine=True, track_running_stats=True)\n",
       "  (relu4): ReLU()\n",
       "  (drop4): Dropout2d(p=0.3, inplace=False)\n",
       "  (maxpool2): MaxPool2d(kernel_size=2, stride=2, padding=0, dilation=1, ceil_mode=False)\n",
       "  (fc1): Linear(in_features=12800, out_features=43, bias=True)\n",
       ")"
      ]
     },
     "execution_count": 6,
     "metadata": {},
     "output_type": "execute_result"
    }
   ],
   "source": [
    "model = Conv(len(test_set.classes))\n",
    "model.to(device)"
   ]
  },
  {
   "cell_type": "code",
   "execution_count": 7,
   "metadata": {},
   "outputs": [],
   "source": [
    "models = []\n",
    "acc = []\n",
    "\n",
    "# Load the five best models\n",
    "for i in range(NUM_MODELS):\n",
    "    reload = torch.load(f'best_model_{i}.pt')\n",
    "    model = Conv(len(test_set.classes))                                           \n",
    "    model.load_state_dict(reload['model'])\n",
    "    model.to(device)\n",
    "    models.append(model)\n",
    "    acc.append(evaluate(models[i], test_loader))"
   ]
  },
  {
   "cell_type": "code",
   "execution_count": 8,
   "metadata": {},
   "outputs": [
    {
     "name": "stdout",
     "output_type": "stream",
     "text": [
      "0.9936975479125977 0.9972288012504578 0.9831354022026062\n"
     ]
    },
    {
     "data": {
      "text/plain": [
       "(0.99, 1.0)"
      ]
     },
     "execution_count": 8,
     "metadata": {},
     "output_type": "execute_result"
    },
    {
     "data": {
      "image/png": "[encoded data removed]",
      "text/plain": [
       "<Figure size 640x480 with 1 Axes>"
      ]
     },
     "metadata": {},
     "output_type": "display_data"
    }
   ],
   "source": [
    "index = [i for i in range(NUM_MODELS)]\n",
    "  \n",
    "plt.bar(index, acc)\n",
    "print(np.mean(acc), np.max(acc), np.min(acc))\n",
    "plt.ylim(0.99,1.0)"
   ]
  },
  {
   "cell_type": "code",
   "execution_count": 9,
   "metadata": {},
   "outputs": [],
   "source": [
    "def get_labels_logits_and_preds(models):\n",
    "\n",
    "    with torch.no_grad():\n",
    "        logits = [[] for _ in range(NUM_MODELS)]\n",
    "        labels = []\n",
    "\n",
    "        for images, labs in test_loader:\n",
    "\n",
    "            images = images.to(device)\n",
    "            labels.extend(labs)\n",
    "            \n",
    "            for i in range(NUM_MODELS):\n",
    "                logits[i].extend(models[i](images).cpu())\n",
    "    return labels, logits\n",
    "\n",
    "labels, logits = get_labels_logits_and_preds(models)"
   ]
  },
  {
   "cell_type": "code",
   "execution_count": 10,
   "metadata": {},
   "outputs": [
    {
     "name": "stdout",
     "output_type": "stream",
     "text": [
      "[8, 8, 8, 8, 8]\n"
     ]
    }
   ],
   "source": [
    "preds = [[] for _ in range(len(labels)) ]\n",
    "\n",
    "for index in range(len(labels)):\n",
    "    preds[index] = [np.argmax(logits[m][index].cpu().numpy()) for m in range(NUM_MODELS)]\n",
    "\n",
    "print(preds[4000]) # 4000 is the index of the image"
   ]
  },
  {
   "cell_type": "code",
   "execution_count": 11,
   "metadata": {},
   "outputs": [
    {
     "name": "stdout",
     "output_type": "stream",
     "text": [
      "tensor(0)\n"
     ]
    }
   ],
   "source": [
    "def get_class_from_sum_of_logits(logits):\n",
    "\n",
    "    sum_logits = []\n",
    "\n",
    "    for i in range(len(logits[0])):\n",
    "\n",
    "        log = logits[0][i]\n",
    "        for m in range(1, NUM_MODELS):\n",
    "            log = np.add(log, logits[m][i])\n",
    "        sum_logits.append(np.argmax(log))\n",
    "    return(sum_logits)\n",
    "    \n",
    "class_logits = get_class_from_sum_of_logits(logits)\n",
    "print(class_logits[0])"
   ]
  },
  {
   "cell_type": "code",
   "execution_count": 12,
   "metadata": {},
   "outputs": [
    {
     "name": "stdout",
     "output_type": "stream",
     "text": [
      "total:  12630\n",
      "All correct:  12345\n",
      "All incorrect:  3\n",
      "Majority correct:  252\n",
      "Tie Vote:  11\n",
      "Majority Wrong:  19\n",
      "Percentage right:  0.9973871733966746\n"
     ]
    }
   ],
   "source": [
    "def VotingEnsemble(labels, class_preds, class_logits):\n",
    "\n",
    "    all_correct = 0\n",
    "    all_incorrect = 0\n",
    "    maj_vote = 0\n",
    "    maj_wrong = 0\n",
    "    tie = 0\n",
    "    count = 0\n",
    "\n",
    "    for k in range(len(labels)):\n",
    "\n",
    "        counter = collections.Counter(class_preds[k])\n",
    "        if len(counter) == 1:\n",
    "            if counter.most_common(1)[0][0] == labels[k]:\n",
    "                all_correct += 1\n",
    "            else:\n",
    "                all_incorrect += 1\n",
    "        else:\n",
    "            aux = counter.most_common(2)\n",
    "            if aux[0][1] > aux[1][1] and aux[0][0] == labels[k]:\n",
    "                maj_vote += 1\n",
    "            if aux[0][1] > aux[1][1] and aux[0][0] != labels[k]:\n",
    "                maj_wrong += 1\n",
    "            elif aux[0][1] == aux[1][1]:\n",
    "                tie += 1\n",
    "\n",
    "        count += 1 \n",
    "        \n",
    "    return [count, all_correct, all_incorrect, maj_vote, tie, maj_wrong]\n",
    "    \n",
    "    \n",
    "res = VotingEnsemble(labels, preds, class_logits)\n",
    "print('total: ', res[0])\n",
    "print('All correct: ', res[1])\n",
    "print('All incorrect: ', res[2])\n",
    "print('Majority correct: ', res[3])\n",
    "print('Tie Vote: ', res[4])\n",
    "print('Majority Wrong: ', res[5])\n",
    "print('Percentage right: ', (res[1]+res[3])/res[0])"
   ]
  }
 ],
 "metadata": {
  "kernelspec": {
   "display_name": "myenv",
   "language": "python",
   "name": "python3"
  },
  "language_info": {
   "codemirror_mode": {
    "name": "ipython",
    "version": 3
   },
   "file_extension": ".py",
   "mimetype": "text/x-python",
   "name": "python",
   "nbconvert_exporter": "python",
   "pygments_lexer": "ipython3",
   "version": "3.12.2"
  }
 },
 "nbformat": 4,
 "nbformat_minor": 2
}
